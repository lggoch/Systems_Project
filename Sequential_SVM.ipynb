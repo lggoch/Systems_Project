{
 "cells": [
  {
   "cell_type": "code",
   "execution_count": 49,
   "metadata": {
    "collapsed": true
   },
   "outputs": [],
   "source": [
    "import numpy as np\n",
    "import pandas as pd\n",
    "import random\n",
    "import matplotlib.pyplot as plt\n",
    "\n"
   ]
  },
  {
   "cell_type": "code",
   "execution_count": 14,
   "metadata": {
    "collapsed": true
   },
   "outputs": [],
   "source": [
    "index = []\n",
    "values= []\n",
    "with open(\"rcv1rcv2aminigoutte/EN/Index_EN-EN\") as rcv1:\n",
    "    for line in rcv1.readlines():\n",
    "        line = line.strip()\n",
    "        index.append(line.split(' ')[0])\n",
    "        values.append(line.split(' ')[1:])\n",
    "        \n",
    "\n",
    "matrix = np.zeros((len(index),21531))\n",
    "\n",
    "for i, row in enumerate(values):\n",
    "    for val in row:\n",
    "        tup = val.split(':')\n",
    "        col = int(tup[0])-1\n",
    "        matrix[i][col] = float(tup[1])\n",
    "\n",
    "features = np.array(matrix)"
   ]
  },
  {
   "cell_type": "code",
   "execution_count": 88,
   "metadata": {},
   "outputs": [],
   "source": [
    "def standardize(x):\n",
    "    centered_data = np.subtract(x, np.nanmean(x, axis=0))\n",
    "    std_data = centered_data / np.nanstd(centered_data, axis=0)\n",
    "    std_data = np.nan_to_num(std_data)\n",
    "    return std_data"
   ]
  },
  {
   "cell_type": "code",
   "execution_count": 89,
   "metadata": {},
   "outputs": [],
   "source": [
    "features = standardize(features)"
   ]
  },
  {
   "cell_type": "code",
   "execution_count": 100,
   "metadata": {
    "collapsed": true
   },
   "outputs": [],
   "source": [
    "def hinge_loss(y, X, w):\n",
    "    loss = np.zeros(y.shape)\n",
    "    f = X@w\n",
    "    ## Penalize but indicative for the prints\n",
    "    for i in range(len(y)):\n",
    "        if y[i] == 1 and f[i] < 1:\n",
    "            loss[i] = (1-y[i]*f[i])*9\n",
    "        else:\n",
    "            loss[i] = 1-y[i]*f[i]\n",
    "    #print(np.clip(loss,0, np.inf))\n",
    "    return np.clip(loss,0, np.inf)"
   ]
  },
  {
   "cell_type": "code",
   "execution_count": 102,
   "metadata": {},
   "outputs": [],
   "source": [
    "def SGD(y,X,w, lambda_, n, num_examples):\n",
    "    def is_support(y_n, x_n, w):\n",
    "        return y_n * x_n @w < 1\n",
    "    x_n, y_n = X[n], y[n]\n",
    "    ## Penalize the gradient\n",
    "    if y_n == 1 and x_n@w <1:\n",
    "        grad = - 8*y_n * x_n.T if is_support(y_n, x_n, w) else np.zeros_like(x_n.T)\n",
    "    else:\n",
    "        grad = - y_n * x_n.T if is_support(y_n, x_n, w) else np.zeros_like(x_n.T)\n",
    "    grad = num_examples * np.squeeze(grad) + lambda_ * w\n",
    "    return grad\n",
    "    "
   ]
  },
  {
   "cell_type": "code",
   "execution_count": 29,
   "metadata": {
    "collapsed": true
   },
   "outputs": [],
   "source": [
    "def calculate_primal(y, X, w, lambda_):\n",
    "    v = hinge_loss(y, X, w)\n",
    "    return np.sum(v) + lambda_ / 2 * np.sum(w**2)"
   ]
  },
  {
   "cell_type": "code",
   "execution_count": 104,
   "metadata": {
    "collapsed": true
   },
   "outputs": [],
   "source": [
    "def sgd_for_svm(y,X):\n",
    "    max_iter = 500000\n",
    "    gamma = 0.3\n",
    "    lambda_ = 0.01\n",
    "    num_examples, num_features = features.shape\n",
    "    w = np.zeros(num_features)\n",
    "    for it in range(max_iter):\n",
    "        n = random.randint(0, num_examples-1)\n",
    "        grad = SGD(y, X, w, lambda_, n, num_examples)\n",
    "        w-= gamma*grad\n",
    "        \n",
    "        if it % 10000 == 0:\n",
    "            cost = calculate_primal(y, X, w, lambda_)\n",
    "            print(\"iteration={i}, cost={c}\".format(i=it, c=cost))\n",
    "    print(\"training accuracy = {l}\".format(l=calculate_accuracy(y, X, w)))\n"
   ]
  },
  {
   "cell_type": "code",
   "execution_count": 72,
   "metadata": {},
   "outputs": [],
   "source": [
    "def create_labels(index, category):\n",
    "    def convert_to_bin(cat):\n",
    "        return 1 if cat == category else -1\n",
    "    labels = map(convert_to_bin, index)\n",
    "    return np.array(list(labels))"
   ]
  },
  {
   "cell_type": "code",
   "execution_count": 41,
   "metadata": {
    "collapsed": true
   },
   "outputs": [],
   "source": [
    "def accuracy(y1, y2):\n",
    "    return np.mean(y1 == y2)\n",
    "\n",
    "def prediction(X, w):\n",
    "    return (X @ w > 0) * 2 - 1\n",
    "def calculate_accuracy(y, X, w):\n",
    "    \"\"\"compute the training accuracy on the training set (can be called for test set as well).\n",
    "    X: the full dataset matrix, shape = (num_examples, num_features)\n",
    "    y: the corresponding +1 or -1 labels, shape = (num_examples)\n",
    "    w: shape = (num_features)\n",
    "    \"\"\"\n",
    "    predicted_y = prediction(X, w)\n",
    "    return accuracy(predicted_y, y)"
   ]
  },
  {
   "cell_type": "code",
   "execution_count": 105,
   "metadata": {},
   "outputs": [
    {
     "name": "stdout",
     "output_type": "stream",
     "text": [
      "iteration=0, cost=10571299882.448761\n",
      "iteration=10000, cost=1752540602381.3203\n",
      "iteration=20000, cost=852422574472.197\n",
      "iteration=30000, cost=1060010910779.144\n",
      "iteration=40000, cost=797671423073.464\n",
      "iteration=50000, cost=997120159202.276\n",
      "iteration=60000, cost=706664855971.6936\n",
      "iteration=70000, cost=618987768120.8668\n",
      "iteration=80000, cost=1359550614415.2273\n",
      "iteration=90000, cost=1623364232411.3813\n",
      "iteration=100000, cost=1455578079443.3987\n",
      "iteration=110000, cost=1128302078851.5474\n",
      "iteration=120000, cost=1308672337701.6719\n",
      "iteration=130000, cost=983776515718.244\n",
      "iteration=140000, cost=1491900643247.9048\n",
      "iteration=150000, cost=1278623565007.5015\n",
      "iteration=160000, cost=879577748201.2035\n",
      "iteration=170000, cost=1380504137181.4575\n",
      "iteration=180000, cost=1393569653995.48\n",
      "iteration=190000, cost=777805729241.6956\n",
      "iteration=200000, cost=1405240023366.2993\n",
      "iteration=210000, cost=1328670182925.471\n",
      "iteration=220000, cost=1048743047321.5085\n",
      "iteration=230000, cost=1695170163497.0564\n",
      "iteration=240000, cost=1563897729159.3628\n",
      "iteration=250000, cost=1311274446491.026\n",
      "iteration=260000, cost=866843977964.8306\n",
      "iteration=270000, cost=925391371217.248\n",
      "iteration=280000, cost=1037335074638.7913\n",
      "iteration=290000, cost=996864275615.9613\n",
      "iteration=300000, cost=1055506027298.8538\n",
      "iteration=310000, cost=843586963454.1033\n",
      "iteration=320000, cost=1466912867501.2126\n",
      "iteration=330000, cost=1848404307384.8662\n",
      "iteration=340000, cost=1274766732348.613\n",
      "iteration=350000, cost=1905988395445.4204\n",
      "iteration=360000, cost=1524875519124.0164\n",
      "iteration=370000, cost=1654447826544.9617\n",
      "iteration=380000, cost=1186362992171.4983\n",
      "iteration=390000, cost=736017565679.8181\n",
      "iteration=400000, cost=1485683418065.0215\n",
      "iteration=410000, cost=1544751698345.0059\n",
      "iteration=420000, cost=1798014347581.9375\n",
      "iteration=430000, cost=934996862384.0364\n",
      "iteration=440000, cost=1981308072743.8206\n",
      "iteration=450000, cost=870605323304.2706\n",
      "iteration=460000, cost=1473890388014.4192\n",
      "iteration=470000, cost=1372668878660.868\n",
      "iteration=480000, cost=1100966730840.9966\n",
      "iteration=490000, cost=760403964931.525\n",
      "training accuracy = 0.6893592067384583\n"
     ]
    }
   ],
   "source": [
    "sgd_for_svm(create_labels(index, \"ECAT\"), features)"
   ]
  },
  {
   "cell_type": "code",
   "execution_count": 106,
   "metadata": {
    "collapsed": true
   },
   "outputs": [],
   "source": [
    "def calculate_coordinate_update(y, X, lambda_, alpha, w, n):\n",
    "    \"\"\"compute a coordinate update (closed form) for coordinate n.\n",
    "    X: the dataset matrix, shape = (num_examples, num_features)\n",
    "    y: the corresponding +1 or -1 labels, shape = (num_examples)\n",
    "    w: shape = (num_examples)\n",
    "    n: the coordinate to be updated\n",
    "    \"\"\"        \n",
    "    # calculate the update of coordinate at index=n.\n",
    "    x_n, y_n = X[n], y[n]\n",
    "    old_alpha_n = np.copy(alpha[n])\n",
    "    \n",
    "    ## Penalize coordinate update\n",
    "    if y_n == 1 and x_n.dot(w) < 1:\n",
    "        g = (y_n * x_n.dot(w) - 1)*8\n",
    "    else:\n",
    "        g = (y_n * x_n.dot(w) - 1)\n",
    "    \n",
    "\n",
    "    if old_alpha_n == 0:\n",
    "        g = min(g, 0)\n",
    "    elif old_alpha_n == 1.0:\n",
    "        g = max(g, 0)\n",
    "    else:\n",
    "        g = g\n",
    "    if g != 0:\n",
    "        alpha[n] = min(\n",
    "            max(old_alpha_n - lambda_ * g / (x_n.T.dot(x_n)), 0.0),\n",
    "            1.0)\n",
    "    \n",
    "        # compute the corresponding update on the primal vector w\n",
    "        w += 1.0 / lambda_ * (alpha[n] - old_alpha_n) * y_n * x_n\n",
    "    return w, alpha"
   ]
  },
  {
   "cell_type": "code",
   "execution_count": 97,
   "metadata": {
    "collapsed": true
   },
   "outputs": [],
   "source": [
    "def calculate_dual_objective(y, X, w, alpha, lambda_):\n",
    "    \"\"\"calculate the objective for the dual problem.\"\"\"\n",
    "    return np.sum(alpha)  - lambda_ / 2.0 * np.sum(w ** 2) # w = 1/lambda * X * Y * alpha"
   ]
  },
  {
   "cell_type": "code",
   "execution_count": 108,
   "metadata": {},
   "outputs": [
    {
     "name": "stdout",
     "output_type": "stream",
     "text": [
      "iteration=0, primal:35203.40957, dual:0.00000, gap:35203.40957\n",
      "iteration=10000, primal:15074.65233, dual:-0.00060, gap:15074.65294\n",
      "iteration=20000, primal:13720.24460, dual:0.00170, gap:13720.24290\n",
      "iteration=30000, primal:12201.08163, dual:0.00429, gap:12201.07734\n",
      "iteration=40000, primal:11560.19332, dual:0.00641, gap:11560.18691\n",
      "iteration=50000, primal:10520.88281, dual:0.00812, gap:10520.87469\n",
      "iteration=60000, primal:9482.74840, dual:0.00982, gap:9482.73858\n",
      "iteration=70000, primal:8741.84638, dual:0.01176, gap:8741.83462\n",
      "iteration=80000, primal:7839.85733, dual:0.01296, gap:7839.84437\n",
      "iteration=90000, primal:7514.18890, dual:0.01430, gap:7514.17460\n",
      "iteration=100000, primal:6915.74568, dual:0.01533, gap:6915.73035\n",
      "iteration=110000, primal:6446.46714, dual:0.01634, gap:6446.45080\n",
      "iteration=120000, primal:6146.14696, dual:0.01720, gap:6146.12976\n",
      "iteration=130000, primal:5659.81303, dual:0.01793, gap:5659.79510\n",
      "iteration=140000, primal:5295.10450, dual:0.01853, gap:5295.08597\n",
      "iteration=150000, primal:5162.57744, dual:0.01910, gap:5162.55835\n",
      "iteration=160000, primal:4891.06053, dual:0.01964, gap:4891.04089\n",
      "iteration=170000, primal:4447.53817, dual:0.02007, gap:4447.51810\n",
      "iteration=180000, primal:4396.05246, dual:0.02048, gap:4396.03198\n",
      "iteration=190000, primal:4099.80093, dual:0.02084, gap:4099.78009\n",
      "iteration=200000, primal:3852.97750, dual:0.02117, gap:3852.95634\n",
      "iteration=210000, primal:3653.57709, dual:0.02149, gap:3653.55560\n",
      "iteration=220000, primal:3449.04022, dual:0.02177, gap:3449.01845\n",
      "iteration=230000, primal:3398.09265, dual:0.02196, gap:3398.07069\n",
      "iteration=240000, primal:3192.54279, dual:0.02223, gap:3192.52057\n",
      "iteration=250000, primal:2957.63833, dual:0.02246, gap:2957.61587\n",
      "iteration=260000, primal:2825.46834, dual:0.02268, gap:2825.44566\n",
      "iteration=270000, primal:2717.06734, dual:0.02286, gap:2717.04448\n",
      "iteration=280000, primal:2555.75171, dual:0.02303, gap:2555.72867\n",
      "iteration=290000, primal:2487.87061, dual:0.02314, gap:2487.84747\n",
      "iteration=300000, primal:2376.94681, dual:0.02331, gap:2376.92350\n",
      "iteration=310000, primal:2352.33794, dual:0.02330, gap:2352.31464\n",
      "iteration=320000, primal:2439.45415, dual:0.02355, gap:2439.43060\n",
      "iteration=330000, primal:2087.16879, dual:0.02363, gap:2087.14516\n",
      "iteration=340000, primal:2250.19908, dual:0.02386, gap:2250.17521\n",
      "iteration=350000, primal:2015.65670, dual:0.02393, gap:2015.63277\n",
      "iteration=360000, primal:1854.13464, dual:0.02404, gap:1854.11060\n",
      "iteration=370000, primal:1763.67353, dual:0.02415, gap:1763.64938\n",
      "iteration=380000, primal:1773.21003, dual:0.02416, gap:1773.18587\n",
      "iteration=390000, primal:1649.74837, dual:0.02418, gap:1649.72419\n",
      "iteration=400000, primal:1741.42482, dual:0.02433, gap:1741.40049\n",
      "iteration=410000, primal:1649.43051, dual:0.02441, gap:1649.40610\n",
      "iteration=420000, primal:1609.48488, dual:0.02443, gap:1609.46046\n",
      "iteration=430000, primal:1466.43251, dual:0.02453, gap:1466.40798\n",
      "iteration=440000, primal:1382.14638, dual:0.02461, gap:1382.12178\n",
      "iteration=450000, primal:1392.62821, dual:0.02466, gap:1392.60355\n",
      "iteration=460000, primal:1372.45667, dual:0.02470, gap:1372.43197\n",
      "iteration=470000, primal:1296.48010, dual:0.02475, gap:1296.45536\n",
      "iteration=480000, primal:1429.85084, dual:0.02462, gap:1429.82622\n",
      "iteration=490000, primal:1338.72288, dual:0.02467, gap:1338.69821\n",
      "training accuracy = 0.997867576500693\n"
     ]
    }
   ],
   "source": [
    "def coordinate_descent_for_svm_demo(y, X):\n",
    "    max_iter = 500000\n",
    "    lambda_ = 0.01\n",
    "\n",
    "    num_examples, num_features = X.shape\n",
    "    w = np.zeros(num_features)\n",
    "    alpha = np.zeros(num_examples)\n",
    "    \n",
    "    for it in range(max_iter):\n",
    "        # n = sample one data point uniformly at random data from x\n",
    "        n = random.randint(0,num_examples-1)\n",
    "        \n",
    "        w, alpha = calculate_coordinate_update(y, X, lambda_, alpha, w, n)\n",
    "            \n",
    "        if it % 10000 == 0:\n",
    "            # primal objective\n",
    "            primal_value = calculate_primal(y, X, w, lambda_)\n",
    "            # dual objective\n",
    "            dual_value = calculate_dual_objective(y, X, w, alpha, lambda_)\n",
    "            # primal dual gap\n",
    "            duality_gap = primal_value - dual_value\n",
    "            print('iteration=%i, primal:%.5f, dual:%.5f, gap:%.5f'%(\n",
    "                    it, primal_value, dual_value, duality_gap))\n",
    "    print(\"training accuracy = {l}\".format(l=calculate_accuracy(y, X, w)))\n",
    "\n",
    "coordinate_descent_for_svm_demo(create_labels(index, \"ECAT\"), features)"
   ]
  },
  {
   "cell_type": "code",
   "execution_count": 91,
   "metadata": {},
   "outputs": [
    {
     "data": {
      "text/plain": [
       "18292827.67315279"
      ]
     },
     "execution_count": 91,
     "metadata": {},
     "output_type": "execute_result"
    }
   ],
   "source": [
    "343136861493/features.shape[0]"
   ]
  },
  {
   "cell_type": "code",
   "execution_count": 62,
   "metadata": {},
   "outputs": [
    {
     "data": {
      "image/png": "[encoded data removed]",
      "text/plain": [
       "<matplotlib.figure.Figure at 0x10da1e860>"
      ]
     },
     "metadata": {},
     "output_type": "display_data"
    }
   ],
   "source": [
    "import pandas\n",
    "from collections import Counter\n",
    "letter_counts = Counter(index)\n",
    "df = pandas.DataFrame.from_dict(letter_counts, orient='index')\n",
    "df.plot(kind='bar')\n",
    "plt.show()"
   ]
  },
  {
   "cell_type": "code",
   "execution_count": 65,
   "metadata": {},
   "outputs": [
    {
     "data": {
      "image/png": "[encoded data removed]",
      "text/plain": [
       "<matplotlib.figure.Figure at 0x10f118320>"
      ]
     },
     "metadata": {},
     "output_type": "display_data"
    }
   ],
   "source": [
    "plt.hist(create_labels(index, \"ECAT\"), normed= True)\n",
    "plt.show()"
   ]
  },
  {
   "cell_type": "code",
   "execution_count": null,
   "metadata": {
    "collapsed": true
   },
   "outputs": [],
   "source": []
  }
 ],
 "metadata": {
  "kernelspec": {
   "display_name": "Python 3",
   "language": "python",
   "name": "python3"
  },
  "language_info": {
   "codemirror_mode": {
    "name": "ipython",
    "version": 3
   },
   "file_extension": ".py",
   "mimetype": "text/x-python",
   "name": "python",
   "nbconvert_exporter": "python",
   "pygments_lexer": "ipython3",
   "version": "3.6.2"
  }
 },
 "nbformat": 4,
 "nbformat_minor": 2
}
